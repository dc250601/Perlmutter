{
 "cells": [
  {
   "cell_type": "code",
   "execution_count": 5,
   "id": "146e7c51-20eb-4950-8aeb-5ad105932913",
   "metadata": {},
   "outputs": [
    {
     "name": "stdout",
     "output_type": "stream",
     "text": [
      "Starting the data extraction process...\n",
      "Done\n"
     ]
    }
   ],
   "source": [
    "!bash ../ML_Top/Models/effswin/data.sh"
   ]
  }
 ],
 "metadata": {
  "kernelspec": {
   "display_name": "work",
   "language": "python",
   "name": "work"
  },
  "language_info": {
   "codemirror_mode": {
    "name": "ipython",
    "version": 3
   },
   "file_extension": ".py",
   "mimetype": "text/x-python",
   "name": "python",
   "nbconvert_exporter": "python",
   "pygments_lexer": "ipython3",
   "version": "3.6.15"
  }
 },
 "nbformat": 4,
 "nbformat_minor": 5
}
